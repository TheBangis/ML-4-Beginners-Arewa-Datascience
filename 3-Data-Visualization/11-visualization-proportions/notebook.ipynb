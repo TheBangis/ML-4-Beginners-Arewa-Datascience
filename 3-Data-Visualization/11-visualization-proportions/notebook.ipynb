{
 "cells": [
  {
   "attachments": {},
   "cell_type": "markdown",
   "metadata": {},
   "source": [
    "# 🍄 Mushroom Proportions"
   ]
  },
  {
   "cell_type": "code",
   "execution_count": null,
   "metadata": {},
   "outputs": [],
   "source": [
    "import pandas as pd\n",
    "import matplotlib.pyplot as plt\n",
    "mushrooms = pd.read_csv('../data/mushrooms.csv')\n",
    "mushrooms.head()"
   ]
  },
  {
   "attachments": {},
   "cell_type": "markdown",
   "metadata": {},
   "source": [
    "### Right away, you notice that all the data is textual. You will have to convert this data to be able to use it in a chart. Most of the data, in fact, is represented as an object:"
   ]
  },
  {
   "cell_type": "code",
   "execution_count": null,
   "metadata": {},
   "outputs": [],
   "source": [
    "print(mushrooms.select_dtypes([\"object\"]).columns)"
   ]
  },
  {
   "attachments": {},
   "cell_type": "markdown",
   "metadata": {},
   "source": [
    "### Take this data and convert the 'class' column to a category:"
   ]
  },
  {
   "cell_type": "code",
   "execution_count": null,
   "metadata": {},
   "outputs": [],
   "source": [
    "cols = mushrooms.select_dtypes(['object']).columns\n",
    "mushrooms[cols] = mushrooms[cols].astype('category')\n"
   ]
  },
  {
   "cell_type": "code",
   "execution_count": null,
   "metadata": {},
   "outputs": [],
   "source": [
    "edibleclass = mushrooms.groupby(['class']).count()\n",
    "edibleclass"
   ]
  },
  {
   "attachments": {},
   "cell_type": "markdown",
   "metadata": {},
   "source": [
    "### Pie"
   ]
  },
  {
   "cell_type": "code",
   "execution_count": null,
   "metadata": {},
   "outputs": [],
   "source": [
    "labels = ['edible', 'poisonous']\n",
    "plt.pie(edibleclass['population'], labels=labels, autopct='%.1f %%')\n",
    "plt.title('Edible?')\n",
    "plt.show()"
   ]
  },
  {
   "attachments": {},
   "cell_type": "markdown",
   "metadata": {},
   "source": [
    "### Donuts"
   ]
  },
  {
   "cell_type": "code",
   "execution_count": null,
   "metadata": {},
   "outputs": [],
   "source": [
    "habitat = mushrooms.groupby(['habitat']).count()\n",
    "habitat"
   ]
  },
  {
   "cell_type": "code",
   "execution_count": null,
   "metadata": {},
   "outputs": [],
   "source": [
    "labels=['Grasses','Leaves','Meadows','Paths','Urban','Waste','Wood']\n",
    "\n",
    "plt.pie(habitat['class'], labels=labels, autopct='%1.1f%%', pctdistance=0.85)\n",
    "  \n",
    "center_circle = plt.Circle((0, 0), 0.40, fc='white')\n",
    "fig = plt.gcf()\n",
    "\n",
    "fig.gca().add_artist(center_circle)\n",
    "  \n",
    "plt.title('Mushroom Habitats')\n",
    "  \n",
    "plt.show()"
   ]
  },
  {
   "attachments": {},
   "cell_type": "markdown",
   "metadata": {},
   "source": [
    "### This code draws a chart and a center circle, then adds that center circle in the chart. Edit the width of the center circle by changing 0.40 to another value.\n",
    "\n",
    "### Donut charts can be tweaked in several ways to change the labels. The labels in particular can be highlighted for readability. Learn more in the docs.\n",
    "\n",
    "### Now that you know how to group your data and then display it as a pie or donut, you can explore other types of charts. Try a waffle chart, which is just a different way of exploring quantity."
   ]
  },
  {
   "attachments": {},
   "cell_type": "markdown",
   "metadata": {},
   "source": [
    "### Waffles!"
   ]
  },
  {
   "cell_type": "code",
   "execution_count": null,
   "metadata": {},
   "outputs": [],
   "source": [
    "capcolor=mushrooms.groupby(['cap-color']).count()\n",
    "capcolor"
   ]
  },
  {
   "cell_type": "code",
   "execution_count": null,
   "metadata": {},
   "outputs": [],
   "source": [
    "import pandas as pd\n",
    "import matplotlib.pyplot as plt\n",
    "from pywaffle import Waffle\n",
    "  \n",
    "data ={'color': ['brown', 'buff', 'cinnamon', 'green', 'pink', 'purple', 'red', 'white', 'yellow'],\n",
    "    'amount': capcolor['class']\n",
    "     }\n",
    "  \n",
    "df = pd.DataFrame(data)\n",
    "  \n",
    "fig = plt.figure(\n",
    "    FigureClass = Waffle,\n",
    "    rows = 100,\n",
    "    values = df.amount,\n",
    "    labels = list(df.color),\n",
    "    figsize = (30,30),\n",
    "    colors=[\"brown\", \"tan\", \"maroon\", \"green\", \"pink\", \"purple\", \"red\", \"whitesmoke\", \"yellow\"]\n",
    ")"
   ]
  }
 ],
 "metadata": {
  "kernelspec": {
   "display_name": "Python 3",
   "language": "python",
   "name": "python3"
  },
  "language_info": {
   "codemirror_mode": {
    "name": "ipython",
    "version": 3
   },
   "file_extension": ".py",
   "mimetype": "text/x-python",
   "name": "python",
   "nbconvert_exporter": "python",
   "pygments_lexer": "ipython3",
   "version": "3.9.13"
  },
  "orig_nbformat": 4
 },
 "nbformat": 4,
 "nbformat_minor": 2
}
